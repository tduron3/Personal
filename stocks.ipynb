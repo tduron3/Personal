{
 "cells": [
  {
   "cell_type": "code",
   "execution_count": 1,
   "metadata": {},
   "outputs": [],
   "source": [
    "import numpy as np\n",
    "import pandas as pd\n",
    "import requests\n",
    "import json\n",
    "\n",
    "api_key = \"c0etgtn48v6p527umitg\"\n"
   ]
  },
  {
   "cell_type": "code",
   "execution_count": 2,
   "metadata": {
    "scrolled": true
   },
   "outputs": [],
   "source": [
    "f = (api_key)"
   ]
  },
  {
   "cell_type": "code",
   "execution_count": 3,
   "metadata": {},
   "outputs": [],
   "source": [
    "params = {\"key\": f}"
   ]
  },
  {
   "cell_type": "code",
   "execution_count": 4,
   "metadata": {},
   "outputs": [
    {
     "name": "stdout",
     "output_type": "stream",
     "text": [
      "{'c': 852.23, 'h': 864.77, 'l': 838.97, 'o': 845, 'pc': 849.99, 't': 1612569600}\n"
     ]
    }
   ],
   "source": [
    "# Tesla - TSLA\n",
    "\n",
    "td1 = requests.get('https://finnhub.io/api/v1/quote?symbol=TSLA&token=c0etgtn48v6p527umitg')\n",
    "print(td1.json())"
   ]
  },
  {
   "cell_type": "code",
   "execution_count": 5,
   "metadata": {},
   "outputs": [
    {
     "name": "stdout",
     "output_type": "stream",
     "text": [
      "{'c': 62.36, 'h': 62.6, 'l': 60.01, 'o': 61.61, 'pc': 60.47, 't': 1612569600}\n"
     ]
    }
   ],
   "source": [
    "# PI - PI\n",
    "td2 = requests.get('https://finnhub.io/api/v1/quote?symbol=PI&token=c0etgtn48v6p527umitg')\n",
    "print(td2.json())"
   ]
  },
  {
   "cell_type": "code",
   "execution_count": 6,
   "metadata": {},
   "outputs": [
    {
     "name": "stdout",
     "output_type": "stream",
     "text": [
      "{'c': 56.67, 'h': 57.98, 'l': 56.01, 'o': 57.74, 'pc': 57.6, 't': 1612569600}\n"
     ]
    }
   ],
   "source": [
    "# NIO - NIO\n",
    "\n",
    "td3 = requests.get('https://finnhub.io/api/v1/quote?symbol=NIO&token=c0etgtn48v6p527umitg')\n",
    "print(td3.json())"
   ]
  },
  {
   "cell_type": "code",
   "execution_count": 7,
   "metadata": {},
   "outputs": [
    {
     "name": "stdout",
     "output_type": "stream",
     "text": [
      "{'c': 176.24, 'h': 177.5, 'l': 170.26, 'o': 170.99, 'pc': 173.31, 't': 1612569600}\n"
     ]
    }
   ],
   "source": [
    "# Moderna - MRNA\n",
    "\n",
    "td4 = requests.get('https://finnhub.io/api/v1/quote?symbol=MRNA&token=c0etgtn48v6p527umitg')\n",
    "print(td4.json())"
   ]
  },
  {
   "cell_type": "code",
   "execution_count": 8,
   "metadata": {},
   "outputs": [
    {
     "name": "stdout",
     "output_type": "stream",
     "text": [
      "{'c': 149.46, 'h': 149.46, 'l': 149.46, 'o': 149.46, 'pc': 148.35, 't': 1612569600}\n"
     ]
    }
   ],
   "source": [
    "# ARK Innovation ETF - ARKK\n",
    "\n",
    "td5 = requests.get('https://finnhub.io/api/v1/quote?symbol=ARKK&token=c0etgtn48v6p527umitg')\n",
    "print(td5.json())"
   ]
  },
  {
   "cell_type": "code",
   "execution_count": 9,
   "metadata": {},
   "outputs": [
    {
     "name": "stdout",
     "output_type": "stream",
     "text": [
      "{'c': 9.74, 'h': 9.98, 'l': 9, 'o': 9.37, 'pc': 9.4, 't': 1612569600}\n"
     ]
    }
   ],
   "source": [
    "# Chimerix, Inc. - CMRX\n",
    "\n",
    "td6 = requests.get('https://finnhub.io/api/v1/quote?symbol=CMRX&token=c0etgtn48v6p527umitg')\n",
    "print(td6.json())"
   ]
  },
  {
   "cell_type": "code",
   "execution_count": 10,
   "metadata": {},
   "outputs": [
    {
     "name": "stdout",
     "output_type": "stream",
     "text": [
      "{'c': 0.035, 'h': 0.05, 'l': 0.03, 'o': 0.04, 'pc': 0.04, 't': 1612535400}\n"
     ]
    }
   ],
   "source": [
    "# Puration, Inc. - PURA\n",
    "\n",
    "td7 = requests.get('https://finnhub.io/api/v1/quote?symbol=PURA&token=c0etgtn48v6p527umitg')\n",
    "print(td7.json())\n",
    "    "
   ]
  },
  {
   "cell_type": "code",
   "execution_count": 11,
   "metadata": {},
   "outputs": [
    {
     "name": "stdout",
     "output_type": "stream",
     "text": [
      "{'c': 40.61, 'h': 42.1, 'l': 38.8, 'o': 41.27, 'pc': 41.34, 't': 1612569600}\n"
     ]
    }
   ],
   "source": [
    "# Workhorse - WKHS\n",
    "\n",
    "rh1 = requests.get('https://finnhub.io/api/v1/quote?symbol=WKHS&token=c0etgtn48v6p527umitg')\n",
    "print(rh1.json())"
   ]
  },
  {
   "cell_type": "code",
   "execution_count": 12,
   "metadata": {},
   "outputs": [
    {
     "name": "stdout",
     "output_type": "stream",
     "text": [
      "{'c': 5.25, 'h': 5.9, 'l': 3.11, 'o': 3.42, 'pc': 3.25, 't': 1612569600}\n"
     ]
    }
   ],
   "source": [
    "# Ocugen, Inc. - OCGN\n",
    "\n",
    "rh2 = requests.get('https://finnhub.io/api/v1/quote?symbol=OCGN&token=c0etgtn48v6p527umitg')\n",
    "print(rh2.json())"
   ]
  },
  {
   "cell_type": "code",
   "execution_count": 13,
   "metadata": {},
   "outputs": [
    {
     "name": "stdout",
     "output_type": "stream",
     "text": [
      "{'c': 25.72, 'h': 27.35, 'l': 25.61, 'o': 27.13, 'pc': 26.78, 't': 1612569600}\n"
     ]
    }
   ],
   "source": [
    "# Tilray - TLRY\n",
    "\n",
    "rh3 = requests.get('https://finnhub.io/api/v1/quote?symbol=TLRY&token=c0etgtn48v6p527umitg')\n",
    "print(rh3.json())\n"
   ]
  },
  {
   "cell_type": "code",
   "execution_count": 14,
   "metadata": {},
   "outputs": [
    {
     "name": "stdout",
     "output_type": "stream",
     "text": [
      "{'c': 290.18, 'h': 300, 'l': 280.45, 'o': 283.62, 'pc': 280.92, 't': 1612569600}\n"
     ]
    }
   ],
   "source": [
    "# Novavax - NVAX\n",
    "\n",
    "rh4 = requests.get('https://finnhub.io/api/v1/quote?symbol=NVAX&token=c0etgtn48v6p527umitg')\n",
    "print(rh4.json())"
   ]
  },
  {
   "cell_type": "code",
   "execution_count": 15,
   "metadata": {},
   "outputs": [
    {
     "name": "stdout",
     "output_type": "stream",
     "text": [
      "{'c': 42.93, 'h': 43.9593, 'l': 42.26, 'o': 43.5, 'pc': 44.14, 't': 1612569600}\n"
     ]
    }
   ],
   "source": [
    "# Canopy Growth - CGC\n",
    "\n",
    "rh5 = requests.get('https://finnhub.io/api/v1/quote?symbol=CGC&token=c0etgtn48v6p527umitg')\n",
    "print(rh5.json())"
   ]
  },
  {
   "cell_type": "code",
   "execution_count": 16,
   "metadata": {},
   "outputs": [
    {
     "name": "stdout",
     "output_type": "stream",
     "text": [
      "{'c': 5.18, 'h': 5.2, 'l': 4.64, 'o': 5.0332, 'pc': 5.2, 't': 1612569600}\n"
     ]
    }
   ],
   "source": [
    "# Agenus - AGEN\n",
    "\n",
    "rh6 = requests.get('https://finnhub.io/api/v1/quote?symbol=AGEN&token=c0etgtn48v6p527umitg')\n",
    "print(rh6.json())"
   ]
  },
  {
   "cell_type": "code",
   "execution_count": 17,
   "metadata": {},
   "outputs": [
    {
     "name": "stdout",
     "output_type": "stream",
     "text": [
      "{'c': 8.07, 'h': 8.2699, 'l': 7.88, 'o': 8.2, 'pc': 8.19, 't': 1612569600}\n"
     ]
    }
   ],
   "source": [
    "# GBS - GBS\n",
    "\n",
    "rh7 = requests.get('https://finnhub.io/api/v1/quote?symbol=GBS&token=c0etgtn48v6p527umitg')\n",
    "print(rh7.json())"
   ]
  },
  {
   "cell_type": "code",
   "execution_count": 18,
   "metadata": {},
   "outputs": [
    {
     "name": "stdout",
     "output_type": "stream",
     "text": [
      "{'c': 12.01, 'h': 12.4, 'l': 11.88, 'o': 12.29, 'pc': 12.19, 't': 1612569600}\n"
     ]
    }
   ],
   "source": [
    "# Cronos Group - CRON\n",
    "\n",
    "rh8 = requests.get('https://finnhub.io/api/v1/quote?symbol=CRON&token=c0etgtn48v6p527umitg')\n",
    "print(rh8.json())"
   ]
  },
  {
   "cell_type": "code",
   "execution_count": 19,
   "metadata": {},
   "outputs": [
    {
     "name": "stdout",
     "output_type": "stream",
     "text": [
      "{'c': 23.36, 'h': 23.36, 'l': 23.36, 'o': 23.36, 'pc': 23.53, 't': 1612569600}\n"
     ]
    }
   ],
   "source": [
    "# ETFMG Alternate Harvest - MJ\n",
    "\n",
    "rh9 = requests.get('https://finnhub.io/api/v1/quote?symbol=MJ&token=c0etgtn48v6p527umitg')\n",
    "print(rh9.json())"
   ]
  },
  {
   "cell_type": "code",
   "execution_count": null,
   "metadata": {},
   "outputs": [],
   "source": [
    "# Sundial Growers - SNDL\n",
    "\n",
    "rh10 = requests.get('https://finnhub.io/api/v1/quote?symbol=SNDL&token=c0etgtn48v6p527umitg')\n",
    "print(rh10.json())"
   ]
  }
 ],
 "metadata": {
  "kernelspec": {
   "display_name": "Python 3",
   "language": "python",
   "name": "python3"
  },
  "language_info": {
   "codemirror_mode": {
    "name": "ipython",
    "version": 3
   },
   "file_extension": ".py",
   "mimetype": "text/x-python",
   "name": "python",
   "nbconvert_exporter": "python",
   "pygments_lexer": "ipython3",
   "version": "3.8.5"
  }
 },
 "nbformat": 4,
 "nbformat_minor": 4
}
