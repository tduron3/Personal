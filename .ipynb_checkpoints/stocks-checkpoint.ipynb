{
 "cells": [
  {
   "cell_type": "code",
   "execution_count": 1,
   "metadata": {},
   "outputs": [],
   "source": [
    "import numpy as np\n",
    "import pandas as pd\n",
    "import requests\n",
    "import json\n",
    "\n",
    "api_key = \"c0etgtn48v6p527umitg\"\n"
   ]
  },
  {
   "cell_type": "code",
   "execution_count": 2,
   "metadata": {
    "scrolled": true
   },
   "outputs": [],
   "source": [
    "f = (api_key)"
   ]
  },
  {
   "cell_type": "code",
   "execution_count": 3,
   "metadata": {},
   "outputs": [],
   "source": [
    "params = {\"key\": f}"
   ]
  },
  {
   "cell_type": "code",
   "execution_count": 4,
   "metadata": {},
   "outputs": [
    {
     "name": "stdout",
     "output_type": "stream",
     "text": [
      "{'c': 0.0345, 'h': 0.05, 'l': 0.03, 'o': 0.0402, 'pc': 0.0397, 't': 1612558799}\n",
      "{'c': 290.18, 'h': 300, 'l': 280.45, 'o': 283.62, 'pc': 280.92, 't': 1612569600}\n",
      "{'c': 25.72, 'h': 27.35, 'l': 25.61, 'o': 27.13, 'pc': 26.78, 't': 1612569600}\n",
      "{'c': 176.24, 'h': 177.5, 'l': 170.26, 'o': 170.99, 'pc': 173.31, 't': 1612569600}\n",
      "{'c': 56.67, 'h': 57.98, 'l': 56.01, 'o': 57.74, 'pc': 57.6, 't': 1612569600}\n",
      "{'c': 62.36, 'h': 62.6, 'l': 60.01, 'o': 61.61, 'pc': 60.47, 't': 1612569600}\n",
      "{'c': 852.23, 'h': 864.77, 'l': 838.97, 'o': 845, 'pc': 849.99, 't': 1612569600}\n",
      "{'c': 290.18, 'h': 300, 'l': 280.45, 'o': 283.62, 'pc': 280.92, 't': 1612569600}\n",
      "{'c': 25.72, 'h': 27.35, 'l': 25.61, 'o': 27.13, 'pc': 26.78, 't': 1612569600}\n"
     ]
    }
   ],
   "source": [
    "# Puration, Inc.\n",
    "\n",
    "T = requests.get('https://finnhub.io/api/v1/quote?symbol=PURA&token=c0etgtn48v6p527umitg')\n",
    "print(T.json())\n",
    "    "
   ]
  },
  {
   "cell_type": "code",
   "execution_count": null,
   "metadata": {},
   "outputs": [],
   "source": [
    "# ARK Innovation ETF\n",
    "\n",
    "O = requests.get('https://finnhub.io/api/v1/quote?symbol=ARKK&token=c0etgtn48v6p527umitg')\n",
    "print(O.json())"
   ]
  },
  {
   "cell_type": "code",
   "execution_count": null,
   "metadata": {},
   "outputs": [],
   "source": [
    "# Chimerix, Inc.\n",
    "\n",
    "N = requests.get('https://finnhub.io/api/v1/quote?symbol=CMRX&token=c0etgtn48v6p527umitg')\n",
    "print(N.json())"
   ]
  },
  {
   "cell_type": "code",
   "execution_count": null,
   "metadata": {},
   "outputs": [],
   "source": [
    "# Moderna\n",
    "\n",
    "Y = requests.get('https://finnhub.io/api/v1/quote?symbol=MRNA&token=c0etgtn48v6p527umitg')\n",
    "print(Y.json())"
   ]
  },
  {
   "cell_type": "code",
   "execution_count": null,
   "metadata": {},
   "outputs": [],
   "source": [
    "# NIO\n",
    "\n",
    "D = requests.get('https://finnhub.io/api/v1/quote?symbol=NIO&token=c0etgtn48v6p527umitg')\n",
    "print(D.json())"
   ]
  },
  {
   "cell_type": "code",
   "execution_count": null,
   "metadata": {},
   "outputs": [],
   "source": [
    "# PI\n",
    "\n",
    "U = requests.get('https://finnhub.io/api/v1/quote?symbol=PI&token=c0etgtn48v6p527umitg')\n",
    "print(U.json())"
   ]
  },
  {
   "cell_type": "code",
   "execution_count": null,
   "metadata": {},
   "outputs": [],
   "source": [
    "# Tesla\n",
    "\n",
    "R = requests.get('https://finnhub.io/api/v1/quote?symbol=TSLA&token=c0etgtn48v6p527umitg')\n",
    "print(R.json())"
   ]
  },
  {
   "cell_type": "code",
   "execution_count": null,
   "metadata": {},
   "outputs": [],
   "source": [
    "# Novavax\n",
    "\n",
    "O = requests.get('https://finnhub.io/api/v1/quote?symbol=NVAX&token=c0etgtn48v6p527umitg')\n",
    "print(O.json())"
   ]
  },
  {
   "cell_type": "code",
   "execution_count": null,
   "metadata": {},
   "outputs": [],
   "source": [
    "# Tilray\n",
    "\n",
    "N = requests.get('https://finnhub.io/api/v1/quote?symbol=TLRY&token=c0etgtn48v6p527umitg')\n",
    "print(N.json())\n"
   ]
  }
 ],
 "metadata": {
  "kernelspec": {
   "display_name": "Python 3",
   "language": "python",
   "name": "python3"
  },
  "language_info": {
   "codemirror_mode": {
    "name": "ipython",
    "version": 3
   },
   "file_extension": ".py",
   "mimetype": "text/x-python",
   "name": "python",
   "nbconvert_exporter": "python",
   "pygments_lexer": "ipython3",
   "version": "3.8.5"
  }
 },
 "nbformat": 4,
 "nbformat_minor": 4
}
